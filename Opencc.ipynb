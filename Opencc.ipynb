{
  "nbformat": 4,
  "nbformat_minor": 0,
  "metadata": {
    "colab": {
      "name": "Opencc.ipynb",
      "provenance": [],
      "collapsed_sections": [],
      "authorship_tag": "ABX9TyNL+jTDGojkYvwrLZdcQBwf",
      "include_colab_link": true
    },
    "kernelspec": {
      "name": "python3",
      "display_name": "Python 3"
    },
    "language_info": {
      "name": "python"
    }
  },
  "cells": [
    {
      "cell_type": "markdown",
      "metadata": {
        "id": "view-in-github",
        "colab_type": "text"
      },
      "source": [
        "<a href=\"https://colab.research.google.com/github/ZJCHEN0109/AIMarchinLearn/blob/main/Opencc.ipynb\" target=\"_parent\"><img src=\"https://colab.research.google.com/assets/colab-badge.svg\" alt=\"Open In Colab\"/></a>"
      ]
    },
    {
      "cell_type": "code",
      "execution_count": 1,
      "metadata": {
        "colab": {
          "base_uri": "https://localhost:8080/"
        },
        "id": "3huQ2bhB0bAN",
        "outputId": "a0b635e9-44b8-40f8-f7ff-908107ad0e0f"
      },
      "outputs": [
        {
          "output_type": "stream",
          "name": "stdout",
          "text": [
            "Looking in indexes: https://pypi.org/simple, https://us-python.pkg.dev/colab-wheels/public/simple/\n",
            "Collecting opencc-python-reimplemented\n",
            "  Downloading opencc-python-reimplemented-0.1.6.tar.gz (484 kB)\n",
            "\u001b[K     |████████████████████████████████| 484 kB 5.4 MB/s \n",
            "\u001b[?25hBuilding wheels for collected packages: opencc-python-reimplemented\n",
            "  Building wheel for opencc-python-reimplemented (setup.py) ... \u001b[?25l\u001b[?25hdone\n",
            "  Created wheel for opencc-python-reimplemented: filename=opencc_python_reimplemented-0.1.6-py2.py3-none-any.whl size=486152 sha256=9d00ee389365272c6a734476d2486e74c6cedfb49b06533aae68185a565449c1\n",
            "  Stored in directory: /root/.cache/pip/wheels/4e/e2/60/d062d260be08788bb389521544a8fc173de9a9a78d6a593344\n",
            "Successfully built opencc-python-reimplemented\n",
            "Installing collected packages: opencc-python-reimplemented\n",
            "Successfully installed opencc-python-reimplemented-0.1.6\n"
          ]
        }
      ],
      "source": [
        "!pip install opencc-python-reimplemented"
      ]
    },
    {
      "cell_type": "code",
      "source": [
        "from opencc import OpenCC\n",
        "cc = OpenCC(\"s2tw\")  # convert from Simplified Chinese to Traditional Chinese\n",
        "# can also set conversion by calling set_conversion\n",
        "# cc.set_conversion('s2tw')\n",
        "to_convert = \"\"\"作者：陈肖恩\n",
        "链接：https://www.zhihu.com/question/30550891/answer/48502337\n",
        "来源：知乎\n",
        "著作权归作者所有。商业转载请联系作者获得授权，非商业转载请注明出处。\n",
        "\n",
        "不太确定你的浏览方式，我只能说已知的：WP有繁简转换机制，所有页面的源码都是一样的（繁简书写混集），然后匿名用户会根据浏览器的语言偏好设置挑选最接近的，如果是登陆用户的话，则可以自行到用户设置调整。如果什么都没有调整过（匿名没zh系的语言偏好设置，登陆的没改动过用户设置），默认是zh-cn（大陆简体）如果是匿名没登陆的话，有可能是浏览器语言偏好没设置对，是zh，对应的就是源码模式，没繁简转换处理的；或者你看的就是页面就是源码模式，地址如<zh.wp.org(省略)>/zh/<页面名>。以上适用于PC网页版；移动网页版确认，使用PC网页版同样的机制；移动客户端版是独立开发，对于多书写体系支持好像不太好，但暂时没发现类似问题。附多一些东西：准确来说，WP的繁简转换分两部分构成，字词简单繁简替换和地区词转换，其实是同一个转换程序跑两次。整个语言代码转换分成三种：zh：源码，内容是繁简混集的zh-hant、zh-hans：繁简模式，将zh的源码转换成纯繁体字形或纯简体字形，使用的是内部自带的转换表（只针对字或少量词）和可以在前台配置的简体与繁体转换表。zh-hk、zh-cn、zh-tw、zh-mo、zh-sg：地区词模式，将上面的结果针对不同地区在整理一次用词差异，使用的是内部自带的转换表（只针对字或少量词）和5个地区专用转换表。以上是针对全站所有非特殊页面（除Special和Mediawiki这两个命名空间）的转换，每个页面也可以添加标记再调整一次转换。\"\"\"\n",
        "converted = cc.convert(to_convert)\n",
        "converted"
      ],
      "metadata": {
        "colab": {
          "base_uri": "https://localhost:8080/",
          "height": 226
        },
        "id": "Zo41FrAv0kLn",
        "outputId": "a87cf26a-4580-48e0-f971-02c0e226b356"
      },
      "execution_count": 2,
      "outputs": [
        {
          "output_type": "execute_result",
          "data": {
            "text/plain": [
              "'作者：陳肖恩\\n鏈接：https://www.zhihu.com/question/30550891/answer/48502337\\n來源：知乎\\n著作權歸作者所有。商業轉載請聯繫作者獲得授權，非商業轉載請註明出處。\\n\\n不太確定你的瀏覽方式，我只能說已知的：WP有繁簡轉換機制，所有頁面的源碼都是一樣的（繁簡書寫混集），然後匿名用戶會根據瀏覽器的語言偏好設置挑選最接近的，如果是登陸用戶的話，則可以自行到用戶設置調整。如果什麼都沒有調整過（匿名沒zh系的語言偏好設置，登陸的沒改動過用戶設置），默認是zh-cn（大陸簡體）如果是匿名沒登陸的話，有可能是瀏覽器語言偏好沒設置對，是zh，對應的就是源碼模式，沒繁簡轉換處理的；或者你看的就是頁面就是源碼模式，地址如<zh.wp.org(省略)>/zh/<頁面名>。以上適用於PC網頁版；移動網頁版確認，使用PC網頁版同樣的機制；移動客戶端版是獨立開發，對於多書寫體系支持好像不太好，但暫時沒發現類似問題。附多一些東西：準確來說，WP的繁簡轉換分兩部分構成，字詞簡單繁簡替換和地區詞轉換，其實是同一個轉換程序跑兩次。整個語言代碼轉換分成三種：zh：源碼，內容是繁簡混集的zh-hant、zh-hans：繁簡模式，將zh的源碼轉換成純繁體字形或純簡體字形，使用的是內部自帶的轉換表（只針對字或少量詞）和可以在前臺配置的簡體與繁體轉換表。zh-hk、zh-cn、zh-tw、zh-mo、zh-sg：地區詞模式，將上面的結果針對不同地區在整理一次用詞差異，使用的是內部自帶的轉換表（只針對字或少量詞）和5個地區專用轉換表。以上是針對全站所有非特殊頁面（除Special和Mediawiki這兩個命名空間）的轉換，每個頁面也可以添加標記再調整一次轉換。'"
            ],
            "application/vnd.google.colaboratory.intrinsic+json": {
              "type": "string"
            }
          },
          "metadata": {},
          "execution_count": 2
        }
      ]
    },
    {
      "cell_type": "code",
      "source": [
        "news=\"\"\"高雄日前爆出劣質FLOWFLEX富樂快篩試劑無法判讀引發關注，新竹地檢署分案調查發現，進口商大鑫資訊公司得標高雄、台中、新竹等10多項政府採購快篩試劑案後，涉嫌違法進口中國大陸劣質「富樂家用新冠抗原快速檢測試劑FlowflexCOVID-19AntigenHomeTest」，混充美國製交貨，藉此牟取巨額暴利。\n",
        "\n",
        "檢察官翁貫育今（13）天指揮調查局台北市調查處及新竹縣調查站搜索大鑫公司、倉庫及負責人住家等共5處所，查扣富樂家用新冠抗原快速檢測試劑1400箱以上、超過45萬支試劑，並同步約談犯罪嫌疑人公司負責人朱壽暉、執行長黃南競等5人到案，目前正由調查官詢問中，晚間將移送新竹地檢署複訊。\n",
        "\n",
        "調查局指出，大鑫公司於111年5月10日獲食藥署核准輸入由美國Laboratories,Inc.製造已獲FDA緊急授權使用（EUA）之「富樂家用新冠抗原快速檢測試劑Flowflex COVID-19 Antigen Home Test」，取得國防部軍醫局、新竹縣竹北市公所、台中市政府衛生局、高雄市政府衛生局等十餘件政府採購標案。\n",
        "\n",
        "調查局續指，大鑫公司交貨時竟委託中國大陸艾康生物技術（杭州）有限公司生產包裝後運送至香港，再由香港以空運方式運送來台，並不實標示產地為「USA」，該公司不到1個月時間內已進口約237萬劑，但履約交付政府機關後發送民眾後，卻陸續經民眾反映無法呈現測試線（T）、品管線（C）之檢測結果。\n",
        "\n",
        "檢調查出，大鑫公司實際輸入產品與食藥署核准專案進口之「富樂家用新冠抗原快速檢測試劑FlowflexCOVID-19AntigenHomeTest」不同，除涉有產地虛偽標記外，品質也不良，相關人員已涉嫌違反《醫療器材管理法》及妨害農工商、詐欺等罪嫌。\n",
        "\n",
        "調查局表示，值此新冠肺炎疫情肆虐期間，調查局特訂定「嚴重特殊傳染性肺炎防疫專案」，加強監控有無不法業者因貪圖利益而進口未經核准輸入或品質不良之醫材；呼籲民眾若發現市面上出現非法醫材，請立即向調查局提出檢舉，調查局一定積極追查偵辦，以期維護國人健康。\"\"\""
      ],
      "metadata": {
        "id": "HbqQtdsq7chr"
      },
      "execution_count": 26,
      "outputs": []
    },
    {
      "cell_type": "code",
      "source": [
        "import jieba\n",
        "from urllib.request import urlretrieve\n",
        "url=\"https://github.com/fxsjy/jieba/raw/master/extra_dict/dict.txt.big\"\n",
        "urlretrieve(url,\"dict.txt.big\")\n",
        "jieba.set_dictionary(\"dict.txt.big\")\n",
        "jieba.load_userdict(\"dict.news.txt\")"
      ],
      "metadata": {
        "colab": {
          "base_uri": "https://localhost:8080/"
        },
        "id": "L3e4DBKiF2Ys",
        "outputId": "d2a42f5e-a131-45f4-9787-92035e873683"
      },
      "execution_count": 27,
      "outputs": [
        {
          "output_type": "stream",
          "name": "stderr",
          "text": [
            "Building prefix dict from /content/dict.txt.big ...\n",
            "Dumping model to file cache /tmp/jieba.u501edca284da514cb68b53a20324f4e3.cache\n",
            "Loading model cost 1.767 seconds.\n",
            "Prefix dict has been built successfully.\n"
          ]
        }
      ]
    },
    {
      "cell_type": "code",
      "source": [
        "import jieba\n",
        "\" \".join(jieba.cut(news))"
      ],
      "metadata": {
        "colab": {
          "base_uri": "https://localhost:8080/",
          "height": 244
        },
        "id": "5gZR4JFpCWkK",
        "outputId": "d0ca728c-b23e-4725-bab4-36d43b3fcc94"
      },
      "execution_count": 28,
      "outputs": [
        {
          "output_type": "execute_result",
          "data": {
            "text/plain": [
              "'高雄 日前 爆出 劣質 FLOWFLEX 富樂 快篩試劑 無法 判讀 引發 關注 ， 新竹 地檢署 分案 調查 發現 ， 進口商 大鑫 資訊 公司 得 標高 雄 、 台 中 、 新竹 等 10 多項 政府 採購 快篩試劑 案 後 ， 涉嫌 違法 進口 中國大陸 劣質 「 富樂 家用 新冠 抗原 快速 檢測 試劑 FlowflexCOVID - 19AntigenHomeTest 」 ， 混充 美國 製 交貨 ， 藉此 牟取 巨額 暴利 。 \\n \\n 檢察官 翁貫育 今 （ 13 ） 天 指揮 調查局 台北市 調查 處及 新竹縣 調查 站 搜索 大鑫 公司 、 倉庫 及 負責人 住家 等 共 5 處所 ， 查扣 富樂 家用 新冠 抗原 快速 檢測 試劑 1400 箱 以上 、 超過 45 萬支 試劑 ， 並 同步 約談 犯罪 嫌疑人 公司 負責人 朱壽暉 、 執行長 黃南 競等 5 人 到案 ， 目前 正由 調查 官 詢問 中 ， 晚間 將 移送 新竹 地檢署 複 訊 。 \\n \\n 調查局 指出 ， 大鑫 公司 於 111 年 5 月 10 日 獲食 藥署 核准 輸入 由 美國 Laboratories , Inc . 製造 已獲 FDA 緊急 授權 使用 （ EUA ） 之 「 富樂 家用 新冠 抗原 快速 檢測 試劑 Flowflex   COVID - 19   Antigen   Home   Test 」 ， 取得 國防部 軍醫 局 、 新竹縣 竹北 市公所 、 台中市 政府 衛生局 、 高雄市 政府 衛生局 等 十餘件 政府 採購 標案 。 \\n \\n 調查局 續指 ， 大鑫 公司 交貨 時竟 委託 中國大陸 艾康 生物 技術 （ 杭州 ） 有限公司 生產 包裝 後 運送 至 香港 ， 再 由 香港 以 空運 方式 運 送來 台 ， 並不實 標示 產地 為 「 USA 」 ， 該 公司 不到 1 個 月 時間 內 已 進口 約 237 萬劑 ， 但 履約 交付 政府 機關 後 發送 民眾 後 ， 卻 陸續 經民眾 反映 無法 呈現 測試 線 （ T ） 、 品 管線 （ C ） 之 檢測 結果 。 \\n \\n 檢 調查 出 ， 大鑫 公司 實際 輸入 產品 與 食藥署 核准 專案 進口 之 「 富樂 家用 新冠 抗原 快速 檢測 試劑 FlowflexCOVID - 19AntigenHomeTest 」 不同 ， 除涉 有 產地 虛偽 標記 外 ， 品質 也 不良 ， 相關 人員 已 涉嫌 違反 《 醫療 器材 管理法 》 及 妨害 農工商 、 詐欺 等 罪嫌 。 \\n \\n 調查局 表示 ， 值此 新冠 肺炎 疫情 肆虐 期間 ， 調查局 特訂 定 「 嚴重 特殊 傳染性 肺炎 防疫 專案 」 ， 加強 監控 有 無不 法 業者 因 貪圖 利益 而 進口 未經 核准 輸入 或 品質 不良 之醫材 ； 呼籲 民眾 若 發現 市面上 出現 非 法醫 材 ， 請 立即 向 調查局 提出 檢舉 ， 調查局 一定 積極 追查 偵辦 ， 以期 維護 國人 健康 。'"
            ],
            "application/vnd.google.colaboratory.intrinsic+json": {
              "type": "string"
            }
          },
          "metadata": {},
          "execution_count": 28
        }
      ]
    },
    {
      "cell_type": "code",
      "source": [
        "import jieba.analyse\n",
        "jieba.analyse.extract_tags(news)\n",
        "jieba.analyse.extract_tags(news,withWeight=True,allowPOS=[\"nr\",\"ns\",\"nt\",\"nw\",\"nz\"])\n",
        "jieba.analyse.extract_tags(news,topK=10,withWeight=True,allowPOS=[\"n\",\"nr\",\"ns\",\"nt\",\"nw\",\"nz\"])"
      ],
      "metadata": {
        "colab": {
          "base_uri": "https://localhost:8080/"
        },
        "id": "iP1vq3lB7LdM",
        "outputId": "536676f1-9809-4b3c-a4de-7f2818055993"
      },
      "execution_count": 10,
      "outputs": [
        {
          "output_type": "execute_result",
          "data": {
            "text/plain": [
              "[('萬劑', 0.6766849529943396),\n",
              " ('高鑫', 0.6766849529943396),\n",
              " ('高雄市', 0.6093500058113207),\n",
              " ('大鑫資訊', 0.4511233019962264),\n",
              " ('負責人', 0.4511233019962264),\n",
              " ('富樂', 0.4511233019962264),\n",
              " ('利潤', 0.4511233019962264),\n",
              " ('黑心', 0.384419078690566),\n",
              " ('代理商', 0.35559776745283017),\n",
              " ('全案', 0.2415484030811321)]"
            ]
          },
          "metadata": {},
          "execution_count": 10
        }
      ]
    }
  ]
}