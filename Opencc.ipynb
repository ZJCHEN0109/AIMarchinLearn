{
  "nbformat": 4,
  "nbformat_minor": 0,
  "metadata": {
    "colab": {
      "name": "Opencc.ipynb",
      "provenance": [],
      "collapsed_sections": [],
      "authorship_tag": "ABX9TyOT40jmr44IAVx1lFxHVm4L",
      "include_colab_link": true
    },
    "kernelspec": {
      "name": "python3",
      "display_name": "Python 3"
    },
    "language_info": {
      "name": "python"
    }
  },
  "cells": [
    {
      "cell_type": "markdown",
      "metadata": {
        "id": "view-in-github",
        "colab_type": "text"
      },
      "source": [
        "<a href=\"https://colab.research.google.com/github/ZJCHEN0109/AIMarchinLearn/blob/main/Opencc.ipynb\" target=\"_parent\"><img src=\"https://colab.research.google.com/assets/colab-badge.svg\" alt=\"Open In Colab\"/></a>"
      ]
    },
    {
      "cell_type": "code",
      "execution_count": 1,
      "metadata": {
        "colab": {
          "base_uri": "https://localhost:8080/"
        },
        "id": "3huQ2bhB0bAN",
        "outputId": "a0b635e9-44b8-40f8-f7ff-908107ad0e0f"
      },
      "outputs": [
        {
          "output_type": "stream",
          "name": "stdout",
          "text": [
            "Looking in indexes: https://pypi.org/simple, https://us-python.pkg.dev/colab-wheels/public/simple/\n",
            "Collecting opencc-python-reimplemented\n",
            "  Downloading opencc-python-reimplemented-0.1.6.tar.gz (484 kB)\n",
            "\u001b[K     |████████████████████████████████| 484 kB 5.4 MB/s \n",
            "\u001b[?25hBuilding wheels for collected packages: opencc-python-reimplemented\n",
            "  Building wheel for opencc-python-reimplemented (setup.py) ... \u001b[?25l\u001b[?25hdone\n",
            "  Created wheel for opencc-python-reimplemented: filename=opencc_python_reimplemented-0.1.6-py2.py3-none-any.whl size=486152 sha256=9d00ee389365272c6a734476d2486e74c6cedfb49b06533aae68185a565449c1\n",
            "  Stored in directory: /root/.cache/pip/wheels/4e/e2/60/d062d260be08788bb389521544a8fc173de9a9a78d6a593344\n",
            "Successfully built opencc-python-reimplemented\n",
            "Installing collected packages: opencc-python-reimplemented\n",
            "Successfully installed opencc-python-reimplemented-0.1.6\n"
          ]
        }
      ],
      "source": [
        "!pip install opencc-python-reimplemented"
      ]
    },
    {
      "cell_type": "code",
      "source": [
        "from opencc import OpenCC\n",
        "cc = OpenCC(\"s2tw\")  # convert from Simplified Chinese to Traditional Chinese\n",
        "# can also set conversion by calling set_conversion\n",
        "# cc.set_conversion('s2tw')\n",
        "to_convert = \"\"\"作者：陈肖恩\n",
        "链接：https://www.zhihu.com/question/30550891/answer/48502337\n",
        "来源：知乎\n",
        "著作权归作者所有。商业转载请联系作者获得授权，非商业转载请注明出处。\n",
        "\n",
        "不太确定你的浏览方式，我只能说已知的：WP有繁简转换机制，所有页面的源码都是一样的（繁简书写混集），然后匿名用户会根据浏览器的语言偏好设置挑选最接近的，如果是登陆用户的话，则可以自行到用户设置调整。如果什么都没有调整过（匿名没zh系的语言偏好设置，登陆的没改动过用户设置），默认是zh-cn（大陆简体）如果是匿名没登陆的话，有可能是浏览器语言偏好没设置对，是zh，对应的就是源码模式，没繁简转换处理的；或者你看的就是页面就是源码模式，地址如<zh.wp.org(省略)>/zh/<页面名>。以上适用于PC网页版；移动网页版确认，使用PC网页版同样的机制；移动客户端版是独立开发，对于多书写体系支持好像不太好，但暂时没发现类似问题。附多一些东西：准确来说，WP的繁简转换分两部分构成，字词简单繁简替换和地区词转换，其实是同一个转换程序跑两次。整个语言代码转换分成三种：zh：源码，内容是繁简混集的zh-hant、zh-hans：繁简模式，将zh的源码转换成纯繁体字形或纯简体字形，使用的是内部自带的转换表（只针对字或少量词）和可以在前台配置的简体与繁体转换表。zh-hk、zh-cn、zh-tw、zh-mo、zh-sg：地区词模式，将上面的结果针对不同地区在整理一次用词差异，使用的是内部自带的转换表（只针对字或少量词）和5个地区专用转换表。以上是针对全站所有非特殊页面（除Special和Mediawiki这两个命名空间）的转换，每个页面也可以添加标记再调整一次转换。\"\"\"\n",
        "converted = cc.convert(to_convert)\n",
        "converted"
      ],
      "metadata": {
        "colab": {
          "base_uri": "https://localhost:8080/",
          "height": 174
        },
        "id": "Zo41FrAv0kLn",
        "outputId": "a87cf26a-4580-48e0-f971-02c0e226b356"
      },
      "execution_count": 2,
      "outputs": [
        {
          "output_type": "execute_result",
          "data": {
            "text/plain": [
              "'作者：陳肖恩\\n鏈接：https://www.zhihu.com/question/30550891/answer/48502337\\n來源：知乎\\n著作權歸作者所有。商業轉載請聯繫作者獲得授權，非商業轉載請註明出處。\\n\\n不太確定你的瀏覽方式，我只能說已知的：WP有繁簡轉換機制，所有頁面的源碼都是一樣的（繁簡書寫混集），然後匿名用戶會根據瀏覽器的語言偏好設置挑選最接近的，如果是登陸用戶的話，則可以自行到用戶設置調整。如果什麼都沒有調整過（匿名沒zh系的語言偏好設置，登陸的沒改動過用戶設置），默認是zh-cn（大陸簡體）如果是匿名沒登陸的話，有可能是瀏覽器語言偏好沒設置對，是zh，對應的就是源碼模式，沒繁簡轉換處理的；或者你看的就是頁面就是源碼模式，地址如<zh.wp.org(省略)>/zh/<頁面名>。以上適用於PC網頁版；移動網頁版確認，使用PC網頁版同樣的機制；移動客戶端版是獨立開發，對於多書寫體系支持好像不太好，但暫時沒發現類似問題。附多一些東西：準確來說，WP的繁簡轉換分兩部分構成，字詞簡單繁簡替換和地區詞轉換，其實是同一個轉換程序跑兩次。整個語言代碼轉換分成三種：zh：源碼，內容是繁簡混集的zh-hant、zh-hans：繁簡模式，將zh的源碼轉換成純繁體字形或純簡體字形，使用的是內部自帶的轉換表（只針對字或少量詞）和可以在前臺配置的簡體與繁體轉換表。zh-hk、zh-cn、zh-tw、zh-mo、zh-sg：地區詞模式，將上面的結果針對不同地區在整理一次用詞差異，使用的是內部自帶的轉換表（只針對字或少量詞）和5個地區專用轉換表。以上是針對全站所有非特殊頁面（除Special和Mediawiki這兩個命名空間）的轉換，每個頁面也可以添加標記再調整一次轉換。'"
            ],
            "application/vnd.google.colaboratory.intrinsic+json": {
              "type": "string"
            }
          },
          "metadata": {},
          "execution_count": 2
        }
      ]
    },
    {
      "cell_type": "code",
      "source": [
        "news=\"\"\"高雄市政府採購美國知名品牌富樂快篩出包，重創高雄市長陳其邁防疫形象。調查局台北市調處13日兵分多路，前往進口商高鑫、代理商大鑫資訊及存放兩公司快篩的倉儲公司搜索，並約談高鑫負責人朱壽暉、王淑娟夫婦及大鑫負責人黃南競等人，懷疑上述三人以大陸黑心快篩魚目混珠，佯裝為富樂快篩出售，全案正依違反醫材法罪嫌擴大偵辦中。\n",
        "\n",
        "這次高雄市出包的富樂快篩，最離譜的是「沒有C線」，高市府截至12日為止已回收約5500劑，經清查發現同批號快篩約有10萬劑，但檢調深入追查後，發現情況遠比高雄的10萬劑還嚴重。\n",
        "\n",
        "據了解，高鑫前後進口的問題富樂快篩數量，上看200萬劑，每劑利潤約20元，可說是利潤驚人。而高鑫負責從國外進口後，由代理商大鑫資訊對外銷售，主要銷售對象為全台國中、國小及基層行政機關，13日市調處除搜索高鑫、大鑫外，也一併前兩公司存放黑心富樂快篩的來旺倉儲進行查扣。\"\"\""
      ],
      "metadata": {
        "id": "HbqQtdsq7chr"
      },
      "execution_count": 3,
      "outputs": []
    },
    {
      "cell_type": "code",
      "source": [
        "import jieba.analyse\n",
        "jieba.analyse.extract_tags(news)\n",
        "jieba.analyse.extract_tags(news,withWeight=True,allowPOS=[\"nr\",\"ns\",\"nt\",\"nw\",\"nz\"])\n",
        "jieba.analyse.extract_tags(news,topK=10,withWeight=True,allowPOS=[\"n\",\"nr\",\"ns\",\"nt\",\"nw\",\"nz\"])"
      ],
      "metadata": {
        "colab": {
          "base_uri": "https://localhost:8080/"
        },
        "id": "iP1vq3lB7LdM",
        "outputId": "536676f1-9809-4b3c-a4de-7f2818055993"
      },
      "execution_count": 10,
      "outputs": [
        {
          "output_type": "execute_result",
          "data": {
            "text/plain": [
              "[('萬劑', 0.6766849529943396),\n",
              " ('高鑫', 0.6766849529943396),\n",
              " ('高雄市', 0.6093500058113207),\n",
              " ('大鑫資訊', 0.4511233019962264),\n",
              " ('負責人', 0.4511233019962264),\n",
              " ('富樂', 0.4511233019962264),\n",
              " ('利潤', 0.4511233019962264),\n",
              " ('黑心', 0.384419078690566),\n",
              " ('代理商', 0.35559776745283017),\n",
              " ('全案', 0.2415484030811321)]"
            ]
          },
          "metadata": {},
          "execution_count": 10
        }
      ]
    }
  ]
}